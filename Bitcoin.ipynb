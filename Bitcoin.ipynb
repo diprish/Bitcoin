{
 "cells": [
  {
   "cell_type": "markdown",
   "metadata": {},
   "source": [
    "# Import Libraries"
   ]
  },
  {
   "cell_type": "code",
   "execution_count": 16,
   "metadata": {},
   "outputs": [],
   "source": [
    "import pandas as pd\n",
    "from sklearn.tree import DecisionTreeRegressor"
   ]
  },
  {
   "cell_type": "markdown",
   "metadata": {},
   "source": [
    "# Read Training Dataset\n",
    "\n",
    "parse_dates can be used to parse date columns"
   ]
  },
  {
   "cell_type": "code",
   "execution_count": 48,
   "metadata": {},
   "outputs": [
    {
     "data": {
      "text/html": [
       "<div>\n",
       "<style scoped>\n",
       "    .dataframe tbody tr th:only-of-type {\n",
       "        vertical-align: middle;\n",
       "    }\n",
       "\n",
       "    .dataframe tbody tr th {\n",
       "        vertical-align: top;\n",
       "    }\n",
       "\n",
       "    .dataframe thead th {\n",
       "        text-align: right;\n",
       "    }\n",
       "</style>\n",
       "<table border=\"1\" class=\"dataframe\">\n",
       "  <thead>\n",
       "    <tr style=\"text-align: right;\">\n",
       "      <th></th>\n",
       "      <th>open</th>\n",
       "      <th>high</th>\n",
       "      <th>low</th>\n",
       "      <th>close</th>\n",
       "      <th>market_cap</th>\n",
       "      <th>avg_block_size</th>\n",
       "      <th>blocks_size</th>\n",
       "      <th>cost_per_transaction_percent</th>\n",
       "      <th>cost_per_transaction</th>\n",
       "      <th>difficulty</th>\n",
       "      <th>...</th>\n",
       "      <th>transactions_per_sec_min</th>\n",
       "      <th>transactions_per_sec_max</th>\n",
       "      <th>utxo_count_mean</th>\n",
       "      <th>utxo_count_stddev</th>\n",
       "      <th>utxo_count_min</th>\n",
       "      <th>utxo_count_max</th>\n",
       "      <th>news_stories_total</th>\n",
       "      <th>news_stories_positive</th>\n",
       "      <th>news_stories_negative</th>\n",
       "      <th>news_stories_neutral</th>\n",
       "    </tr>\n",
       "  </thead>\n",
       "  <tbody>\n",
       "    <tr>\n",
       "      <th>count</th>\n",
       "      <td>951.000000</td>\n",
       "      <td>951.000000</td>\n",
       "      <td>951.000000</td>\n",
       "      <td>951.000000</td>\n",
       "      <td>9.510000e+02</td>\n",
       "      <td>951.000000</td>\n",
       "      <td>951.000000</td>\n",
       "      <td>951.000000</td>\n",
       "      <td>951.000000</td>\n",
       "      <td>9.510000e+02</td>\n",
       "      <td>...</td>\n",
       "      <td>951.000000</td>\n",
       "      <td>951.000000</td>\n",
       "      <td>9.510000e+02</td>\n",
       "      <td>951.000000</td>\n",
       "      <td>9.510000e+02</td>\n",
       "      <td>9.510000e+02</td>\n",
       "      <td>951.000000</td>\n",
       "      <td>951.000000</td>\n",
       "      <td>951.000000</td>\n",
       "      <td>951.000000</td>\n",
       "    </tr>\n",
       "    <tr>\n",
       "      <th>mean</th>\n",
       "      <td>4488.426803</td>\n",
       "      <td>4625.494963</td>\n",
       "      <td>4332.740799</td>\n",
       "      <td>4491.791903</td>\n",
       "      <td>7.568775e+10</td>\n",
       "      <td>0.888219</td>\n",
       "      <td>128639.738049</td>\n",
       "      <td>1.201747</td>\n",
       "      <td>39.480158</td>\n",
       "      <td>2.107572e+12</td>\n",
       "      <td>...</td>\n",
       "      <td>1.204995</td>\n",
       "      <td>11.534700</td>\n",
       "      <td>5.156819e+07</td>\n",
       "      <td>24770.095836</td>\n",
       "      <td>5.152704e+07</td>\n",
       "      <td>5.161047e+07</td>\n",
       "      <td>418.628812</td>\n",
       "      <td>168.154574</td>\n",
       "      <td>192.353312</td>\n",
       "      <td>58.117771</td>\n",
       "    </tr>\n",
       "    <tr>\n",
       "      <th>std</th>\n",
       "      <td>4034.930785</td>\n",
       "      <td>4194.289934</td>\n",
       "      <td>3834.385171</td>\n",
       "      <td>4032.578345</td>\n",
       "      <td>6.838590e+10</td>\n",
       "      <td>0.138993</td>\n",
       "      <td>37848.150475</td>\n",
       "      <td>0.634863</td>\n",
       "      <td>36.422776</td>\n",
       "      <td>2.336768e+12</td>\n",
       "      <td>...</td>\n",
       "      <td>0.454583</td>\n",
       "      <td>5.701356</td>\n",
       "      <td>7.210016e+06</td>\n",
       "      <td>20924.758488</td>\n",
       "      <td>7.196346e+06</td>\n",
       "      <td>7.224068e+06</td>\n",
       "      <td>586.217698</td>\n",
       "      <td>251.943353</td>\n",
       "      <td>293.356907</td>\n",
       "      <td>68.426471</td>\n",
       "    </tr>\n",
       "    <tr>\n",
       "      <th>min</th>\n",
       "      <td>437.790000</td>\n",
       "      <td>443.430000</td>\n",
       "      <td>436.650000</td>\n",
       "      <td>438.710000</td>\n",
       "      <td>6.827425e+09</td>\n",
       "      <td>0.431452</td>\n",
       "      <td>66022.678050</td>\n",
       "      <td>0.324599</td>\n",
       "      <td>3.871172</td>\n",
       "      <td>1.786590e+11</td>\n",
       "      <td>...</td>\n",
       "      <td>0.000000</td>\n",
       "      <td>4.050000</td>\n",
       "      <td>3.678307e+07</td>\n",
       "      <td>2664.997103</td>\n",
       "      <td>3.672462e+07</td>\n",
       "      <td>3.682521e+07</td>\n",
       "      <td>1.000000</td>\n",
       "      <td>0.000000</td>\n",
       "      <td>0.000000</td>\n",
       "      <td>0.000000</td>\n",
       "    </tr>\n",
       "    <tr>\n",
       "      <th>25%</th>\n",
       "      <td>782.910000</td>\n",
       "      <td>793.060000</td>\n",
       "      <td>778.460000</td>\n",
       "      <td>787.720000</td>\n",
       "      <td>1.264200e+10</td>\n",
       "      <td>0.794628</td>\n",
       "      <td>94445.339335</td>\n",
       "      <td>0.773808</td>\n",
       "      <td>7.661564</td>\n",
       "      <td>3.101540e+11</td>\n",
       "      <td>...</td>\n",
       "      <td>0.983333</td>\n",
       "      <td>7.266667</td>\n",
       "      <td>4.480929e+07</td>\n",
       "      <td>12532.051380</td>\n",
       "      <td>4.477173e+07</td>\n",
       "      <td>4.483860e+07</td>\n",
       "      <td>23.000000</td>\n",
       "      <td>9.000000</td>\n",
       "      <td>7.000000</td>\n",
       "      <td>5.000000</td>\n",
       "    </tr>\n",
       "    <tr>\n",
       "      <th>50%</th>\n",
       "      <td>3420.400000</td>\n",
       "      <td>3679.720000</td>\n",
       "      <td>3345.830000</td>\n",
       "      <td>3582.880000</td>\n",
       "      <td>5.937800e+10</td>\n",
       "      <td>0.916414</td>\n",
       "      <td>128245.234800</td>\n",
       "      <td>1.019018</td>\n",
       "      <td>27.715090</td>\n",
       "      <td>8.881720e+11</td>\n",
       "      <td>...</td>\n",
       "      <td>1.216667</td>\n",
       "      <td>9.550000</td>\n",
       "      <td>5.404101e+07</td>\n",
       "      <td>18518.978080</td>\n",
       "      <td>5.401815e+07</td>\n",
       "      <td>5.407645e+07</td>\n",
       "      <td>99.000000</td>\n",
       "      <td>42.000000</td>\n",
       "      <td>29.000000</td>\n",
       "      <td>23.000000</td>\n",
       "    </tr>\n",
       "    <tr>\n",
       "      <th>75%</th>\n",
       "      <td>6899.150000</td>\n",
       "      <td>7110.560000</td>\n",
       "      <td>6719.755000</td>\n",
       "      <td>6898.720000</td>\n",
       "      <td>1.172135e+11</td>\n",
       "      <td>0.983195</td>\n",
       "      <td>163326.674200</td>\n",
       "      <td>1.443199</td>\n",
       "      <td>62.023002</td>\n",
       "      <td>3.511060e+12</td>\n",
       "      <td>...</td>\n",
       "      <td>1.483333</td>\n",
       "      <td>14.691667</td>\n",
       "      <td>5.598217e+07</td>\n",
       "      <td>28135.879670</td>\n",
       "      <td>5.595869e+07</td>\n",
       "      <td>5.599654e+07</td>\n",
       "      <td>718.500000</td>\n",
       "      <td>257.500000</td>\n",
       "      <td>308.000000</td>\n",
       "      <td>108.500000</td>\n",
       "    </tr>\n",
       "    <tr>\n",
       "      <th>max</th>\n",
       "      <td>19475.800000</td>\n",
       "      <td>20089.000000</td>\n",
       "      <td>18974.100000</td>\n",
       "      <td>19497.400000</td>\n",
       "      <td>3.265020e+11</td>\n",
       "      <td>1.218455</td>\n",
       "      <td>192791.543400</td>\n",
       "      <td>4.760788</td>\n",
       "      <td>161.686071</td>\n",
       "      <td>7.454970e+12</td>\n",
       "      <td>...</td>\n",
       "      <td>2.716667</td>\n",
       "      <td>42.716667</td>\n",
       "      <td>6.766664e+07</td>\n",
       "      <td>133326.986800</td>\n",
       "      <td>6.761686e+07</td>\n",
       "      <td>6.772137e+07</td>\n",
       "      <td>3064.000000</td>\n",
       "      <td>1530.000000</td>\n",
       "      <td>1842.000000</td>\n",
       "      <td>309.000000</td>\n",
       "    </tr>\n",
       "  </tbody>\n",
       "</table>\n",
       "<p>8 rows × 50 columns</p>\n",
       "</div>"
      ],
      "text/plain": [
       "               open          high           low         close    market_cap  \\\n",
       "count    951.000000    951.000000    951.000000    951.000000  9.510000e+02   \n",
       "mean    4488.426803   4625.494963   4332.740799   4491.791903  7.568775e+10   \n",
       "std     4034.930785   4194.289934   3834.385171   4032.578345  6.838590e+10   \n",
       "min      437.790000    443.430000    436.650000    438.710000  6.827425e+09   \n",
       "25%      782.910000    793.060000    778.460000    787.720000  1.264200e+10   \n",
       "50%     3420.400000   3679.720000   3345.830000   3582.880000  5.937800e+10   \n",
       "75%     6899.150000   7110.560000   6719.755000   6898.720000  1.172135e+11   \n",
       "max    19475.800000  20089.000000  18974.100000  19497.400000  3.265020e+11   \n",
       "\n",
       "       avg_block_size    blocks_size  cost_per_transaction_percent  \\\n",
       "count      951.000000     951.000000                    951.000000   \n",
       "mean         0.888219  128639.738049                      1.201747   \n",
       "std          0.138993   37848.150475                      0.634863   \n",
       "min          0.431452   66022.678050                      0.324599   \n",
       "25%          0.794628   94445.339335                      0.773808   \n",
       "50%          0.916414  128245.234800                      1.019018   \n",
       "75%          0.983195  163326.674200                      1.443199   \n",
       "max          1.218455  192791.543400                      4.760788   \n",
       "\n",
       "       cost_per_transaction    difficulty          ...           \\\n",
       "count            951.000000  9.510000e+02          ...            \n",
       "mean              39.480158  2.107572e+12          ...            \n",
       "std               36.422776  2.336768e+12          ...            \n",
       "min                3.871172  1.786590e+11          ...            \n",
       "25%                7.661564  3.101540e+11          ...            \n",
       "50%               27.715090  8.881720e+11          ...            \n",
       "75%               62.023002  3.511060e+12          ...            \n",
       "max              161.686071  7.454970e+12          ...            \n",
       "\n",
       "       transactions_per_sec_min  transactions_per_sec_max  utxo_count_mean  \\\n",
       "count                951.000000                951.000000     9.510000e+02   \n",
       "mean                   1.204995                 11.534700     5.156819e+07   \n",
       "std                    0.454583                  5.701356     7.210016e+06   \n",
       "min                    0.000000                  4.050000     3.678307e+07   \n",
       "25%                    0.983333                  7.266667     4.480929e+07   \n",
       "50%                    1.216667                  9.550000     5.404101e+07   \n",
       "75%                    1.483333                 14.691667     5.598217e+07   \n",
       "max                    2.716667                 42.716667     6.766664e+07   \n",
       "\n",
       "       utxo_count_stddev  utxo_count_min  utxo_count_max  news_stories_total  \\\n",
       "count         951.000000    9.510000e+02    9.510000e+02          951.000000   \n",
       "mean        24770.095836    5.152704e+07    5.161047e+07          418.628812   \n",
       "std         20924.758488    7.196346e+06    7.224068e+06          586.217698   \n",
       "min          2664.997103    3.672462e+07    3.682521e+07            1.000000   \n",
       "25%         12532.051380    4.477173e+07    4.483860e+07           23.000000   \n",
       "50%         18518.978080    5.401815e+07    5.407645e+07           99.000000   \n",
       "75%         28135.879670    5.595869e+07    5.599654e+07          718.500000   \n",
       "max        133326.986800    6.761686e+07    6.772137e+07         3064.000000   \n",
       "\n",
       "       news_stories_positive  news_stories_negative  news_stories_neutral  \n",
       "count             951.000000             951.000000            951.000000  \n",
       "mean              168.154574             192.353312             58.117771  \n",
       "std               251.943353             293.356907             68.426471  \n",
       "min                 0.000000               0.000000              0.000000  \n",
       "25%                 9.000000               7.000000              5.000000  \n",
       "50%                42.000000              29.000000             23.000000  \n",
       "75%               257.500000             308.000000            108.500000  \n",
       "max              1530.000000            1842.000000            309.000000  \n",
       "\n",
       "[8 rows x 50 columns]"
      ]
     },
     "execution_count": 48,
     "metadata": {},
     "output_type": "execute_result"
    }
   ],
   "source": [
    "file_path ='./data/train_timeseries.csv'\n",
    "train_data = pd.read_csv(file_path, index_col='date', parse_dates=['date'])\n",
    "train_data.describe()"
   ]
  },
  {
   "cell_type": "code",
   "execution_count": 49,
   "metadata": {},
   "outputs": [
    {
     "data": {
      "text/html": [
       "<div>\n",
       "<style scoped>\n",
       "    .dataframe tbody tr th:only-of-type {\n",
       "        vertical-align: middle;\n",
       "    }\n",
       "\n",
       "    .dataframe tbody tr th {\n",
       "        vertical-align: top;\n",
       "    }\n",
       "\n",
       "    .dataframe thead th {\n",
       "        text-align: right;\n",
       "    }\n",
       "</style>\n",
       "<table border=\"1\" class=\"dataframe\">\n",
       "  <thead>\n",
       "    <tr style=\"text-align: right;\">\n",
       "      <th></th>\n",
       "      <th>open</th>\n",
       "      <th>high</th>\n",
       "      <th>low</th>\n",
       "      <th>close</th>\n",
       "      <th>market_cap</th>\n",
       "      <th>avg_block_size</th>\n",
       "      <th>blocks_size</th>\n",
       "      <th>cost_per_transaction_percent</th>\n",
       "      <th>cost_per_transaction</th>\n",
       "      <th>difficulty</th>\n",
       "      <th>...</th>\n",
       "      <th>transactions_per_sec_min</th>\n",
       "      <th>transactions_per_sec_max</th>\n",
       "      <th>utxo_count_mean</th>\n",
       "      <th>utxo_count_stddev</th>\n",
       "      <th>utxo_count_min</th>\n",
       "      <th>utxo_count_max</th>\n",
       "      <th>news_stories_total</th>\n",
       "      <th>news_stories_positive</th>\n",
       "      <th>news_stories_negative</th>\n",
       "      <th>news_stories_neutral</th>\n",
       "    </tr>\n",
       "    <tr>\n",
       "      <th>date</th>\n",
       "      <th></th>\n",
       "      <th></th>\n",
       "      <th></th>\n",
       "      <th></th>\n",
       "      <th></th>\n",
       "      <th></th>\n",
       "      <th></th>\n",
       "      <th></th>\n",
       "      <th></th>\n",
       "      <th></th>\n",
       "      <th></th>\n",
       "      <th></th>\n",
       "      <th></th>\n",
       "      <th></th>\n",
       "      <th></th>\n",
       "      <th></th>\n",
       "      <th></th>\n",
       "      <th></th>\n",
       "      <th></th>\n",
       "      <th></th>\n",
       "      <th></th>\n",
       "    </tr>\n",
       "  </thead>\n",
       "  <tbody>\n",
       "    <tr>\n",
       "      <th>2018-11-30</th>\n",
       "      <td>4289.09</td>\n",
       "      <td>4322.98</td>\n",
       "      <td>3942.82</td>\n",
       "      <td>4017.27</td>\n",
       "      <td>6.990464e+10</td>\n",
       "      <td>1.209791</td>\n",
       "      <td>192791.5434</td>\n",
       "      <td>0.328777</td>\n",
       "      <td>21.396147</td>\n",
       "      <td>6.653300e+12</td>\n",
       "      <td>...</td>\n",
       "      <td>1.183333</td>\n",
       "      <td>17.700000</td>\n",
       "      <td>58319967.38</td>\n",
       "      <td>27106.89859</td>\n",
       "      <td>58281148</td>\n",
       "      <td>58355400</td>\n",
       "      <td>1071</td>\n",
       "      <td>356</td>\n",
       "      <td>549</td>\n",
       "      <td>166</td>\n",
       "    </tr>\n",
       "    <tr>\n",
       "      <th>2018-11-29</th>\n",
       "      <td>4269.00</td>\n",
       "      <td>4413.02</td>\n",
       "      <td>4145.77</td>\n",
       "      <td>4278.85</td>\n",
       "      <td>7.445102e+10</td>\n",
       "      <td>1.202130</td>\n",
       "      <td>192669.3545</td>\n",
       "      <td>0.625105</td>\n",
       "      <td>23.508462</td>\n",
       "      <td>6.653300e+12</td>\n",
       "      <td>...</td>\n",
       "      <td>1.283333</td>\n",
       "      <td>27.916667</td>\n",
       "      <td>58252488.42</td>\n",
       "      <td>15831.47820</td>\n",
       "      <td>58212951</td>\n",
       "      <td>58269350</td>\n",
       "      <td>1096</td>\n",
       "      <td>389</td>\n",
       "      <td>521</td>\n",
       "      <td>186</td>\n",
       "    </tr>\n",
       "    <tr>\n",
       "      <th>2018-11-28</th>\n",
       "      <td>3822.47</td>\n",
       "      <td>4385.90</td>\n",
       "      <td>3822.47</td>\n",
       "      <td>4257.42</td>\n",
       "      <td>7.407256e+10</td>\n",
       "      <td>1.111968</td>\n",
       "      <td>192543.1309</td>\n",
       "      <td>0.762892</td>\n",
       "      <td>24.411103</td>\n",
       "      <td>6.653300e+12</td>\n",
       "      <td>...</td>\n",
       "      <td>0.433333</td>\n",
       "      <td>33.850000</td>\n",
       "      <td>58186459.38</td>\n",
       "      <td>13193.95528</td>\n",
       "      <td>58165046</td>\n",
       "      <td>58213488</td>\n",
       "      <td>1187</td>\n",
       "      <td>409</td>\n",
       "      <td>583</td>\n",
       "      <td>195</td>\n",
       "    </tr>\n",
       "    <tr>\n",
       "      <th>2018-11-27</th>\n",
       "      <td>3765.95</td>\n",
       "      <td>3862.96</td>\n",
       "      <td>3661.01</td>\n",
       "      <td>3820.72</td>\n",
       "      <td>6.646897e+10</td>\n",
       "      <td>1.071254</td>\n",
       "      <td>192411.9186</td>\n",
       "      <td>0.730799</td>\n",
       "      <td>23.399753</td>\n",
       "      <td>6.653300e+12</td>\n",
       "      <td>...</td>\n",
       "      <td>1.683333</td>\n",
       "      <td>17.083333</td>\n",
       "      <td>58159562.88</td>\n",
       "      <td>9943.16102</td>\n",
       "      <td>58132945</td>\n",
       "      <td>58176825</td>\n",
       "      <td>1239</td>\n",
       "      <td>424</td>\n",
       "      <td>597</td>\n",
       "      <td>218</td>\n",
       "    </tr>\n",
       "    <tr>\n",
       "      <th>2018-11-26</th>\n",
       "      <td>4015.07</td>\n",
       "      <td>4107.14</td>\n",
       "      <td>3643.92</td>\n",
       "      <td>3779.13</td>\n",
       "      <td>6.573929e+10</td>\n",
       "      <td>1.186164</td>\n",
       "      <td>192271.5843</td>\n",
       "      <td>0.741989</td>\n",
       "      <td>21.745022</td>\n",
       "      <td>6.653300e+12</td>\n",
       "      <td>...</td>\n",
       "      <td>1.166667</td>\n",
       "      <td>27.200000</td>\n",
       "      <td>58120822.67</td>\n",
       "      <td>13528.76274</td>\n",
       "      <td>58082636</td>\n",
       "      <td>58135200</td>\n",
       "      <td>1343</td>\n",
       "      <td>454</td>\n",
       "      <td>670</td>\n",
       "      <td>219</td>\n",
       "    </tr>\n",
       "  </tbody>\n",
       "</table>\n",
       "<p>5 rows × 50 columns</p>\n",
       "</div>"
      ],
      "text/plain": [
       "               open     high      low    close    market_cap  avg_block_size  \\\n",
       "date                                                                           \n",
       "2018-11-30  4289.09  4322.98  3942.82  4017.27  6.990464e+10        1.209791   \n",
       "2018-11-29  4269.00  4413.02  4145.77  4278.85  7.445102e+10        1.202130   \n",
       "2018-11-28  3822.47  4385.90  3822.47  4257.42  7.407256e+10        1.111968   \n",
       "2018-11-27  3765.95  3862.96  3661.01  3820.72  6.646897e+10        1.071254   \n",
       "2018-11-26  4015.07  4107.14  3643.92  3779.13  6.573929e+10        1.186164   \n",
       "\n",
       "            blocks_size  cost_per_transaction_percent  cost_per_transaction  \\\n",
       "date                                                                          \n",
       "2018-11-30  192791.5434                      0.328777             21.396147   \n",
       "2018-11-29  192669.3545                      0.625105             23.508462   \n",
       "2018-11-28  192543.1309                      0.762892             24.411103   \n",
       "2018-11-27  192411.9186                      0.730799             23.399753   \n",
       "2018-11-26  192271.5843                      0.741989             21.745022   \n",
       "\n",
       "              difficulty          ...           transactions_per_sec_min  \\\n",
       "date                              ...                                      \n",
       "2018-11-30  6.653300e+12          ...                           1.183333   \n",
       "2018-11-29  6.653300e+12          ...                           1.283333   \n",
       "2018-11-28  6.653300e+12          ...                           0.433333   \n",
       "2018-11-27  6.653300e+12          ...                           1.683333   \n",
       "2018-11-26  6.653300e+12          ...                           1.166667   \n",
       "\n",
       "            transactions_per_sec_max  utxo_count_mean  utxo_count_stddev  \\\n",
       "date                                                                       \n",
       "2018-11-30                 17.700000      58319967.38        27106.89859   \n",
       "2018-11-29                 27.916667      58252488.42        15831.47820   \n",
       "2018-11-28                 33.850000      58186459.38        13193.95528   \n",
       "2018-11-27                 17.083333      58159562.88         9943.16102   \n",
       "2018-11-26                 27.200000      58120822.67        13528.76274   \n",
       "\n",
       "            utxo_count_min  utxo_count_max  news_stories_total  \\\n",
       "date                                                             \n",
       "2018-11-30        58281148        58355400                1071   \n",
       "2018-11-29        58212951        58269350                1096   \n",
       "2018-11-28        58165046        58213488                1187   \n",
       "2018-11-27        58132945        58176825                1239   \n",
       "2018-11-26        58082636        58135200                1343   \n",
       "\n",
       "            news_stories_positive  news_stories_negative  news_stories_neutral  \n",
       "date                                                                            \n",
       "2018-11-30                    356                    549                   166  \n",
       "2018-11-29                    389                    521                   186  \n",
       "2018-11-28                    409                    583                   195  \n",
       "2018-11-27                    424                    597                   218  \n",
       "2018-11-26                    454                    670                   219  \n",
       "\n",
       "[5 rows x 50 columns]"
      ]
     },
     "execution_count": 49,
     "metadata": {},
     "output_type": "execute_result"
    }
   ],
   "source": [
    "train_data.head(5)"
   ]
  },
  {
   "cell_type": "markdown",
   "metadata": {},
   "source": [
    "# Visualization"
   ]
  },
  {
   "cell_type": "code",
   "execution_count": 90,
   "metadata": {},
   "outputs": [],
   "source": [
    "import matplotlib.pyplot as plt\n",
    "%matplotlib inline\n",
    "import seaborn as sns# Set the width and height of the figure\n",
    "something =train_data[['open', 'close']]"
   ]
  },
  {
   "cell_type": "code",
   "execution_count": 91,
   "metadata": {},
   "outputs": [
    {
     "data": {
      "text/plain": [
       "<matplotlib.axes._subplots.AxesSubplot at 0x1ba09f15ba8>"
      ]
     },
     "execution_count": 91,
     "metadata": {},
     "output_type": "execute_result"
    },
    {
     "data": {
      "image/png": "[encoded data removed]",
      "text/plain": [
       "<Figure size 1152x432 with 1 Axes>"
      ]
     },
     "metadata": {
      "needs_background": "light"
     },
     "output_type": "display_data"
    }
   ],
   "source": [
    "plt.figure(figsize=(16,6))\n",
    "\n",
    "# Line chart showing how FIFA rankings evolved over time \n",
    "sns.lineplot(data=something, dashes=False, hue=\"market_cap\",style=\"close\")"
   ]
  },
  {
   "cell_type": "markdown",
   "metadata": {},
   "source": [
    "# Selecting Data for Modeling"
   ]
  },
  {
   "cell_type": "code",
   "execution_count": 42,
   "metadata": {},
   "outputs": [],
   "source": [
    "y = train_data.close\n",
    "X = train_data[train_data.columns]"
   ]
  },
  {
   "cell_type": "markdown",
   "metadata": {},
   "source": [
    "## 1. Parsing Columns Types (Dates)"
   ]
  },
  {
   "cell_type": "code",
   "execution_count": 43,
   "metadata": {},
   "outputs": [],
   "source": [
    "# train_x['parsed_date'] = pd.to_datetime(train_x['date'], infer_datetime_format=True)\n",
    "# train_x['parsed_date'] = pd.to_datetime(train_x['parsed_date'], format = \"%m/%d/%y\") #Explicit Formating"
   ]
  },
  {
   "cell_type": "markdown",
   "metadata": {},
   "source": [
    "## 2. Selecting Columns"
   ]
  },
  {
   "cell_type": "code",
   "execution_count": 44,
   "metadata": {},
   "outputs": [],
   "source": [
    "X.drop(['close','date'],inplace=True, axis=1)"
   ]
  },
  {
   "cell_type": "markdown",
   "metadata": {},
   "source": [
    "# Building the Model"
   ]
  },
  {
   "cell_type": "markdown",
   "metadata": {},
   "source": [
    "## 1. Define the Model"
   ]
  },
  {
   "cell_type": "code",
   "execution_count": 21,
   "metadata": {},
   "outputs": [
    {
     "data": {
      "text/plain": [
       "DecisionTreeRegressor(criterion='mse', max_depth=None, max_features=None,\n",
       "           max_leaf_nodes=None, min_impurity_decrease=0.0,\n",
       "           min_impurity_split=None, min_samples_leaf=1,\n",
       "           min_samples_split=2, min_weight_fraction_leaf=0.0,\n",
       "           presort=False, random_state=1, splitter='best')"
      ]
     },
     "execution_count": 21,
     "metadata": {},
     "output_type": "execute_result"
    }
   ],
   "source": [
    "# Define model. Specify a number for random_state to ensure same results each run\n",
    "model = DecisionTreeRegressor(random_state=1)\n",
    "\n",
    "# Fit model\n",
    "model.fit(X, y)"
   ]
  },
  {
   "cell_type": "code",
   "execution_count": 22,
   "metadata": {},
   "outputs": [
    {
     "name": "stdout",
     "output_type": "stream",
     "text": [
      "Making predictions for the following 5 rows:\n",
      "      open     high      low    market_cap  avg_block_size  blocks_size  \\\n",
      "0  4289.09  4322.98  3942.82  6.990464e+10        1.209791  192791.5434   \n",
      "1  4269.00  4413.02  4145.77  7.445102e+10        1.202130  192669.3545   \n",
      "2  3822.47  4385.90  3822.47  7.407256e+10        1.111968  192543.1309   \n",
      "3  3765.95  3862.96  3661.01  6.646897e+10        1.071254  192411.9186   \n",
      "4  4015.07  4107.14  3643.92  6.573929e+10        1.186164  192271.5843   \n",
      "\n",
      "   cost_per_transaction_percent  cost_per_transaction    difficulty  \\\n",
      "0                      0.328777             21.396147  6.653300e+12   \n",
      "1                      0.625105             23.508462  6.653300e+12   \n",
      "2                      0.762892             24.411103  6.653300e+12   \n",
      "3                      0.730799             23.399753  6.653300e+12   \n",
      "4                      0.741989             21.745022  6.653300e+12   \n",
      "\n",
      "   est_transaction_volume_USD          ...           transactions_per_sec_min  \\\n",
      "0                1.627971e+09          ...                           1.183333   \n",
      "1                9.259868e+08          ...                           1.283333   \n",
      "2                8.142110e+08          ...                           0.433333   \n",
      "3                8.598274e+08          ...                           1.683333   \n",
      "4                7.533560e+08          ...                           1.166667   \n",
      "\n",
      "   transactions_per_sec_max  utxo_count_mean  utxo_count_stddev  \\\n",
      "0                 17.700000      58319967.38        27106.89859   \n",
      "1                 27.916667      58252488.42        15831.47820   \n",
      "2                 33.850000      58186459.38        13193.95528   \n",
      "3                 17.083333      58159562.88         9943.16102   \n",
      "4                 27.200000      58120822.67        13528.76274   \n",
      "\n",
      "   utxo_count_min  utxo_count_max  news_stories_total  news_stories_positive  \\\n",
      "0        58281148        58355400                1071                    356   \n",
      "1        58212951        58269350                1096                    389   \n",
      "2        58165046        58213488                1187                    409   \n",
      "3        58132945        58176825                1239                    424   \n",
      "4        58082636        58135200                1343                    454   \n",
      "\n",
      "   news_stories_negative  news_stories_neutral  \n",
      "0                    549                   166  \n",
      "1                    521                   186  \n",
      "2                    583                   195  \n",
      "3                    597                   218  \n",
      "4                    670                   219  \n",
      "\n",
      "[5 rows x 49 columns]\n",
      "The predictions are\n",
      "[4017.27 4278.85 4257.42 3820.72 3779.13]\n"
     ]
    }
   ],
   "source": [
    "print(\"Making predictions for the following 5 rows:\")\n",
    "print(X.head())\n",
    "print(\"The predictions are\")\n",
    "print(model.predict(X.head()))"
   ]
  },
  {
   "cell_type": "code",
   "execution_count": 26,
   "metadata": {},
   "outputs": [
    {
     "name": "stdout",
     "output_type": "stream",
     "text": [
      "0    4017.27\n",
      "1    4278.85\n",
      "2    4257.42\n",
      "3    3820.72\n",
      "4    3779.13\n",
      "Name: close, dtype: float64\n"
     ]
    }
   ],
   "source": [
    "print(y.head())"
   ]
  },
  {
   "cell_type": "markdown",
   "metadata": {},
   "source": [
    "# Model Validation"
   ]
  },
  {
   "cell_type": "code",
   "execution_count": 27,
   "metadata": {},
   "outputs": [],
   "source": [
    "from sklearn.metrics import mean_absolute_error\n"
   ]
  },
  {
   "cell_type": "code",
   "execution_count": 28,
   "metadata": {},
   "outputs": [
    {
     "data": {
      "text/plain": [
       "0.0"
      ]
     },
     "execution_count": 28,
     "metadata": {},
     "output_type": "execute_result"
    }
   ],
   "source": [
    "predicted_close_prices = model.predict(X)\n",
    "mean_absolute_error(y, predicted_close_prices)"
   ]
  },
  {
   "cell_type": "markdown",
   "metadata": {},
   "source": [
    "## 1. Train Test Split"
   ]
  },
  {
   "cell_type": "code",
   "execution_count": 15,
   "metadata": {},
   "outputs": [],
   "source": [
    "from sklearn.model_selection import train_test_split"
   ]
  },
  {
   "cell_type": "code",
   "execution_count": 34,
   "metadata": {},
   "outputs": [
    {
     "name": "stdout",
     "output_type": "stream",
     "text": [
      "74.59344537815123\n"
     ]
    }
   ],
   "source": [
    "# split data into training and validation data, for both features and target\n",
    "# The split is based on a random number generator. Supplying a numeric value to\n",
    "# the random_state argument guarantees we get the same split every time we\n",
    "# run this script.\n",
    "train_X, val_X, train_y, val_y = train_test_split(X, y, random_state = 0)\n",
    "# Define model\n",
    "model = DecisionTreeRegressor()\n",
    "# Fit model\n",
    "model.fit(train_X, train_y)\n",
    "\n",
    "# get predicted prices on validation data\n",
    "val_predictions = model.predict(val_X)\n",
    "print(mean_absolute_error(val_y, val_predictions))"
   ]
  },
  {
   "cell_type": "markdown",
   "metadata": {},
   "source": [
    "# Underfitting and OverFitting"
   ]
  },
  {
   "cell_type": "code",
   "execution_count": 35,
   "metadata": {},
   "outputs": [],
   "source": [
    "from sklearn.metrics import mean_absolute_error\n",
    "from sklearn.tree import DecisionTreeRegressor\n",
    "\n",
    "def get_mae(max_leaf_nodes, train_X, val_X, train_y, val_y):\n",
    "    model = DecisionTreeRegressor(max_leaf_nodes=max_leaf_nodes, random_state=0)\n",
    "    model.fit(train_X, train_y)\n",
    "    preds_val = model.predict(val_X)\n",
    "    mae = mean_absolute_error(val_y, preds_val)\n",
    "    return(mae)"
   ]
  },
  {
   "cell_type": "code",
   "execution_count": 36,
   "metadata": {},
   "outputs": [
    {
     "name": "stdout",
     "output_type": "stream",
     "text": [
      "Max leaf nodes: 5  \t\t Mean Absolute Error:  625\n",
      "Max leaf nodes: 50  \t\t Mean Absolute Error:  77\n",
      "Max leaf nodes: 500  \t\t Mean Absolute Error:  64\n",
      "Max leaf nodes: 5000  \t\t Mean Absolute Error:  64\n"
     ]
    }
   ],
   "source": [
    "# compare MAE with differing values of max_leaf_nodes\n",
    "for max_leaf_nodes in [5, 50, 500, 5000]:\n",
    "    my_mae = get_mae(max_leaf_nodes, train_X, val_X, train_y, val_y)\n",
    "    print(\"Max leaf nodes: %d  \\t\\t Mean Absolute Error:  %d\" %(max_leaf_nodes, my_mae))"
   ]
  },
  {
   "cell_type": "markdown",
   "metadata": {},
   "source": [
    "# Random Forest"
   ]
  },
  {
   "cell_type": "code",
   "execution_count": 39,
   "metadata": {},
   "outputs": [
    {
     "name": "stderr",
     "output_type": "stream",
     "text": [
      "C:\\ProgramData\\Anaconda3\\lib\\site-packages\\sklearn\\ensemble\\forest.py:246: FutureWarning: The default value of n_estimators will change from 10 in version 0.20 to 100 in 0.22.\n",
      "  \"10 in version 0.20 to 100 in 0.22.\", FutureWarning)\n"
     ]
    },
    {
     "name": "stdout",
     "output_type": "stream",
     "text": [
      "56.950974789915996\n"
     ]
    }
   ],
   "source": [
    "from sklearn.ensemble import RandomForestRegressor\n",
    "from sklearn.metrics import mean_absolute_error\n",
    "\n",
    "forest_model = RandomForestRegressor(random_state=1)\n",
    "forest_model.fit(train_X, train_y)\n",
    "melb_preds = forest_model.predict(val_X)\n",
    "print(mean_absolute_error(val_y, melb_preds))"
   ]
  },
  {
   "cell_type": "code",
   "execution_count": null,
   "metadata": {},
   "outputs": [],
   "source": []
  }
 ],
 "metadata": {
  "kernelspec": {
   "display_name": "Python 3",
   "language": "python",
   "name": "python3"
  },
  "language_info": {
   "codemirror_mode": {
    "name": "ipython",
    "version": 3
   },
   "file_extension": ".py",
   "mimetype": "text/x-python",
   "name": "python",
   "nbconvert_exporter": "python",
   "pygments_lexer": "ipython3",
   "version": "3.7.1"
  }
 },
 "nbformat": 4,
 "nbformat_minor": 2
}
